{
 "cells": [
  {
   "cell_type": "code",
   "execution_count": null,
   "metadata": {},
   "outputs": [],
   "source": [
    "#Initiate the class instances\n",
    "import os\n",
    "import car_class as c\n",
    "import environment_class as e\n",
    "import proof_of_location as p\n",
    "import pandas as pd\n",
    "\n",
    "\n",
    "def parser(simulation_number, coerced_cars, lying_cars, honest_cars, density, accuracy):\n",
    "    #return list: ['Simulation number', 'Percent of coerced cars', 'Percent of lying cars', 'Percent of honest cars', 'Accuracy']\n",
    "    total_cars = coerced_cars + lying_cars + honest_cars\n",
    "    percent_coerced_cars = (coerced_cars / total_cars) * 100\n",
    "    percent_lying_cars = (lying_cars / total_cars) * 100\n",
    "    percent_honest_cars = (honest_cars / total_cars) * 100\n",
    "    \n",
    "    row_list = [simulation_number, percent_coerced_cars, percent_lying_cars, percent_honest_cars, density, accuracy]\n",
    "    return row_list\n",
    "\n",
    "\n",
    "def simulation_generator(number_of_simulations, Number_of_coerced_cars, Number_of_lying_cars, Number_of_honest_cars, interest_variable):\n",
    "    density = (London.width * London.height) / total_cars\n",
    "    data = []\n",
    "    cwd = os.getcwd()\n",
    "    path = cwd + str(interest_variable)\n",
    "\n",
    "    for simulation in range(number_of_simulations):\n",
    "        cars = c.car_list_generator(Number_of_honest_cars, Number_of_lying_cars, Number_of_coerced_cars)\n",
    "        \n",
    "        total_cars = len(cars)\n",
    "\n",
    "        London = e.Environment([0,2], [0,2], 0.25)\n",
    "        e.environment_update(cars, 0.1, London)\n",
    "        \n",
    "        #Load the PoL algoritm and feed it the initialised objects\n",
    "        Accuracy, DAG = p.PoL(cars)\n",
    "\n",
    "        row = parser(simulation, Number_of_coerced_cars, Number_of_lying_cars, Number_of_honest_cars, density, Accuracy)\n",
    "        data.append(row)\n",
    "    #print(data)\n",
    "    df = pd.DataFrame(data, columns=['Simulation number', 'Percent of coerced cars', 'Percent of lying cars', 'Percent of honest cars', 'Density', 'Accuracy'])\n",
    "    df.to_csv(path)\n",
    "    #print(df)\n",
    "\n",
    "\n",
    "Number_of_honest_cars= 700\n",
    "Number_of_lying_cars = 100\n",
    "Number_of_coerced_cars = 200\n",
    "\n",
    "#variable_list = [Number_of_coerced_cars, Number_of_lying_cars, Number_of_honest_cars]\n",
    "#for variable in variable_list:\n",
    "\n",
    "simulation_generator(2, Number_of_coerced_cars, Number_of_lying_cars, Number_of_honest_cars, Number_of_honest_cars)"
   ]
  },
  {
   "cell_type": "code",
   "execution_count": null,
   "metadata": {},
   "outputs": [],
   "source": [
    "#Load the PoL algoritm and feed it the initialised objects\n",
    "\n",
    "#return list: ['Simulation number', 'Percent of coerced cars', 'Percent of lying cars', 'Percent of honest cars', 'Accuracy']"
   ]
  },
  {
   "cell_type": "code",
   "execution_count": 1,
   "metadata": {},
   "outputs": [
    {
     "name": "stdout",
     "output_type": "stream",
     "text": [
      "   Simulation number  Percent of coerced cars  Percent of lying cars  \\\n",
      "0                  1                       10                     10   \n",
      "1                  2                       10                     10   \n",
      "2                  3                       10                     10   \n",
      "\n",
      "   Percent of honest cars  Accuracy  \n",
      "0                      80        69  \n",
      "1                      80        70  \n",
      "2                      80        68  \n"
     ]
    }
   ],
   "source": [
    "#create csv and save results to it\n",
    "import pandas as pd\n",
    "data = [[1, 10, 10, 80, 69], [2, 10, 10, 80, 70], [3, 10, 10, 80, 68]]\n",
    "df = pd.DataFrame(data, columns=['Simulation number', 'Percent of coerced cars', 'Percent of lying cars', 'Percent of honest cars', 'Accuracy'])\n",
    "print(df)\n",
    "\n",
    "#run simulation again\n",
    "#make the data output into a dataframe\n",
    "#append the new dataframe as a row to the main df."
   ]
  },
  {
   "cell_type": "code",
   "execution_count": null,
   "metadata": {},
   "outputs": [],
   "source": [
    "#for i in range(simulations):\n",
    "#run the past three cells"
   ]
  },
  {
   "cell_type": "code",
   "execution_count": null,
   "metadata": {},
   "outputs": [],
   "source": [
    "#for variable in variables:\n",
    "#run the last 3 cells"
   ]
  }
 ],
 "metadata": {
  "kernelspec": {
   "display_name": "Python 3.9.15 64-bit",
   "language": "python",
   "name": "python3"
  },
  "language_info": {
   "codemirror_mode": {
    "name": "ipython",
    "version": 3
   },
   "file_extension": ".py",
   "mimetype": "text/x-python",
   "name": "python",
   "nbconvert_exporter": "python",
   "pygments_lexer": "ipython3",
   "version": "3.9.15"
  },
  "orig_nbformat": 4,
  "vscode": {
   "interpreter": {
    "hash": "a665b5d41d17b532ea9890333293a1b812fa0b73c9c25c950b3cedf1bebd0438"
   }
  }
 },
 "nbformat": 4,
 "nbformat_minor": 2
}
