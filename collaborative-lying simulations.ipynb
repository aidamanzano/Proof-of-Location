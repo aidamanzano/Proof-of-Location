{
 "cells": [
  {
   "cell_type": "code",
   "execution_count": null,
   "metadata": {},
   "outputs": [],
   "source": [
    "import simulation_functions as sim\n",
    "import visualisation_functions as v\n",
    "import numpy as np\n",
    "\n",
    "import os\n",
    "import car_class as c\n",
    "import environment_class as e\n",
    "import proof_of_location as p\n",
    "import refactoredNaivePoL as npol\n",
    "import pandas as pd\n",
    "import initialiser_functions as i\n",
    "import numpy as np"
   ]
  },
  {
   "cell_type": "code",
   "execution_count": null,
   "metadata": {},
   "outputs": [],
   "source": [
    "cars = []\n",
    "collaboratively_lying_cars = []\n",
    "\n",
    "Number_of_honest_cars = 800\n",
    "Number_of_lying_cars = no_lying_cars + lying_cars\n",
    "Number_of_coerced_cars = no_of_coerced_cars + coerced_cars\n",
    "\n",
    "cars = i.car_list_generator(Number_of_honest_cars, no_lying_cars, no_of_coerced_cars)\n",
    "collaboratively_lying_cars = i.car_list_generator(0, lying_cars, coerced_cars)\n",
    "\n",
    "\n",
    "\n",
    "total_cars = len(cars + collaboratively_lying_cars)\n",
    "\n",
    "London = e.Environment([0,2], [0,2], 0.25)\n",
    "density = (London.width * London.height) / total_cars\n",
    "\n",
    "for dt in range(time_interval):\n",
    "    data = []\n",
    "    e.environment_update(cars, dt, London) #dt is 0.1 here\n",
    "    e.environment_update(collaboratively_lying_cars, dt, London)\n",
    "\n",
    "    #Load the PoL algoritm and feed it the initialised objects\n",
    "    Accuracy, DAG, True_Positive, True_Negative, False_Positive, False_Negative = p.PoL(cars)\n",
    "\n",
    "    row = sim.parser(simulation, Number_of_coerced_cars, Number_of_lying_cars, Number_of_honest_cars, density, Accuracy, True_Positive, True_Negative, False_Positive, False_Negative)\n",
    "\n",
    "    data.append(row)\n",
    "    \n",
    "    simulation_df = pd.DataFrame(data, columns=['Simulation number', 'Percent of coerced cars', 'Percent of lying cars', \n",
    "    'Percent of honest cars', 'Density', 'Accuracy', 'True Positives', 'True Negatives', 'False Positives', 'False Negatives', \n",
    "    'Percent True Positives', 'Percent True Negatives', 'Percent False Positives','Percent False Negatives'])\n",
    "\n",
    "    sim_pathfile = sim.save_simulation(simulation_df, path, simulation_id)\n",
    "\n"
   ]
  },
  {
   "cell_type": "code",
   "execution_count": null,
   "metadata": {},
   "outputs": [],
   "source": [
    "import os\n",
    "number_of_cars = 100\n",
    "target_path = '/Percent of lying cars/colaborative lying attack simulations/'\n",
    "\n",
    "simulation_id = 0\n",
    "\n",
    "f = open(\"collaborative_lying_cars_simulation_pathfiles.txt\", \"w+\")\n",
    "\n",
    "path = sim.make_directory(target_path)\n",
    "\n",
    "for percent in range(0, 110, 10):\n",
    "    \n",
    "    lying_cars = int((percent/100) * number_of_cars)\n",
    "    print('lying cars: ',lying_cars)\n",
    "    honest_and_coerced = number_of_cars - lying_cars\n",
    "    print('honest and coerced: ',honest_and_coerced)\n",
    "\n",
    "    for value in range(0, honest_and_coerced + 10, 10):\n",
    "        honest_cars = honest_and_coerced - value\n",
    "        print('honest cars: ',honest_cars)\n",
    "        coerced_cars = value\n",
    "        print('coerced cars: ',coerced_cars)\n",
    "    \n",
    "        number_of_simulations = 100\n",
    "        interest_variable = 1\n",
    "        variable_list = [coerced_cars, lying_cars, honest_cars]\n",
    "\n",
    "        simulation_id += 1\n",
    "        sim_df = sim.aPoL_simulation(number_of_simulations, coerced_cars, lying_cars, honest_cars, interest_variable, variable_list)\n",
    "\n",
    "        sim_pathfile = sim.save_simulation(sim_df, path, simulation_id)\n",
    "\n",
    "        print('pathfile =', sim_pathfile)\n",
    "        f=open(\"collaborative_lying_cars_simulation_pathfiles.txt\", \"a+\")\n",
    "        f.write(sim_pathfile+'\\n')\n",
    "        f.close()\n"
   ]
  }
 ],
 "metadata": {
  "kernelspec": {
   "display_name": "Python 3",
   "language": "python",
   "name": "python3"
  },
  "language_info": {
   "name": "python",
   "version": "3.9.15 (main, Oct 11 2022, 21:39:54) \n[Clang 14.0.0 (clang-1400.0.29.102)]"
  },
  "orig_nbformat": 4,
  "vscode": {
   "interpreter": {
    "hash": "a665b5d41d17b532ea9890333293a1b812fa0b73c9c25c950b3cedf1bebd0438"
   }
  }
 },
 "nbformat": 4,
 "nbformat_minor": 2
}
